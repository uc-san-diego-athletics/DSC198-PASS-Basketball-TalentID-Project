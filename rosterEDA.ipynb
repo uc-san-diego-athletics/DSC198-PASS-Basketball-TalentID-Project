{
 "cells": [
  {
   "cell_type": "code",
   "execution_count": 15,
   "metadata": {},
   "outputs": [],
   "source": [
    "# import packages \n",
    "import pandas as pd\n",
    "import numpy as np\n",
    "import pandas as pd\n",
    "import matplotlib.pyplot as plt\n",
    "from scipy.stats import pearsonr\n",
    "import os\n",
    "from statsmodels.formula.api import ols\n",
    "from sklearn.model_selection import KFold\n",
    "from scipy import linalg\n",
    "from statsmodels.stats.outliers_influence import variance_inflation_factor\n",
    "import patsy\n",
    "import statsmodels.api as sm"
   ]
  },
  {
   "cell_type": "code",
   "execution_count": 4,
   "metadata": {},
   "outputs": [],
   "source": [
    "#read in data\n",
    "fp = os.path.join('data', 'ucsdadvanced.csv')\n",
    "advanced = pd.read_csv(fp)\n",
    "fp = os.path.join('data', 'ucsdpergame.csv')\n",
    "pergame = pd.read_csv(fp)"
   ]
  },
  {
   "cell_type": "markdown",
   "metadata": {},
   "source": [
    "## Glossary\n",
    "Rk -- Rank\n",
    "\n",
    "G -- Games\n",
    "\n",
    "GS -- Games Started\n",
    "\n",
    "MP -- Minutes Played\n",
    "\n",
    "PER -- Player Efficiency Rating\n",
    "\n",
    "TS% -- True Shooting Percentage\n",
    "A measure of shooting efficiency that takes into account 2-point field goals, 3-point field goals, and free throws.\n",
    "\n",
    "eFG% -- Effective Field Goal Percentage; this statistic adjusts for the fact that a 3-point field goal is worth one more point than a 2-point field goal.\n",
    "\n",
    "3PAr -- 3-Point Attempt Rate\n",
    "Percentage of FG Attempts from 3-Point Range\n",
    "\n",
    "FTr -- Free Throw Attempt Rate\n",
    "Number of FT Attempts Per FG Attempt\n",
    "\n",
    "PProd -- Points Produced; an estimate of the player's offensive points produced.\n",
    "\n",
    "ORB% -- Offensive Rebound Percentage; an estimate of the percentage of available offensive rebounds a player grabbed while he was on the floor.\n",
    "\n",
    "DRB% -- Defensive Rebound Percentage; an estimate of the percentage of available defensive rebounds a player grabbed while he was on the floor.\n",
    "\n",
    "TRB% -- Total Rebound Percentage\n",
    "An estimate of the percentage of available rebounds a player grabbed while he was on the floor.\n",
    "\n",
    "AST% -- Assist Percentage\n",
    "An estimate of the percentage of teammate field goals a player assisted while he was on the floor.\n",
    "\n",
    "STL% -- Steal Percentage\n",
    "An estimate of the percentage of opponent possessions that end with a steal by the player while he was on the floor.\n",
    "\n",
    "BLK% -- Block Percentage\n",
    "An estimate of the percentage of opponent two-point field goal attempts blocked by the player while he was on the floor.\n",
    "\n",
    "TOV% -- Turnover Percentage; an estimate of turnovers per 100 plays.\n",
    "\n",
    "USG% -- Usage Percentage; an estimate of the percentage of team plays used by a player while he was on the floor.\n",
    "\n",
    "OWS -- Offensive Win Shares; an estimate of the number of wins contributed by a player due to his offense.\n",
    "\n",
    "DWS -- Defensive Win Shares; an estimate of the number of wins contributed by a player due to his defense.\n",
    "\n",
    "WS -- Win Shares; an estimate of the number of wins contributed by a player due to his offense and defense.\n",
    "\n",
    "WS/40 -- Win Shares Per 40 Minutes; an estimate of the number of wins contributed by a player per 40 minutes (average is approximately .100).\n",
    "\n",
    "OBPM -- Offensive Box Plus/Minus\n",
    "A box score estimate of the offensive points per 100 possessions a player contributed above a league-average player, translated to an average team.\n",
    "\n",
    "DBPM -- Defensive Box Plus/Minus\n",
    "A box score estimate of the defensive points per 100 possessions a player contributed above a league-average player, translated to an average team.\n",
    "\n",
    "BPM -- Box Plus/Minus\n",
    "A box score estimate of the points per 100 possessions a player contributed above a league-average player, translated to an average team."
   ]
  },
  {
   "cell_type": "code",
   "execution_count": 5,
   "metadata": {},
   "outputs": [],
   "source": [
    "#clean dataframes \n",
    "advanced.drop(columns = ['Unnamed: 19', 'Unnamed: 24', 'Rk'], inplace = True)\n",
    "advanced['Player'] = advanced['Player'].apply(lambda x: x.split('\\\\')[0])\n",
    "pergame.drop(columns = ['Rk'], inplace = True)\n",
    "pergame['Player'] = pergame['Player'].apply(lambda x: x.split('\\\\')[0])\n",
    "#fill null values in pergame ft% w/ team average\n",
    "pergame['FT%'].fillna(pergame['FT%'].mean(), inplace = True)\n",
    "\n",
    "\n"
   ]
  },
  {
   "cell_type": "code",
   "execution_count": 6,
   "metadata": {},
   "outputs": [
    {
     "name": "stdout",
     "output_type": "stream",
     "text": [
      "   feature           VIF\n",
      "0        G    235.493679\n",
      "1       GS     27.537257\n",
      "2       MP    369.656082\n",
      "3      PER   2058.817552\n",
      "4      TS%  13693.833872\n",
      "5     eFG%  10074.755585\n",
      "6     3PAr    377.712793\n",
      "7      FTr     36.851877\n",
      "8    PProd    804.950867\n",
      "9     USG%    424.067424\n",
      "10      WS    437.987730\n",
      "11   WS/40   1534.814617\n",
      "12    TOV%     39.496363\n",
      "13     BPM     13.526079\n"
     ]
    }
   ],
   "source": [
    "#checking multicollinearity for advanced\n",
    "cols = ['G', 'GS', 'MP', 'PER', 'TS%', 'eFG%', '3PAr', 'FTr', 'PProd', 'USG%', 'WS', 'WS/40', 'TOV%', 'BPM']\n",
    "X = advanced[cols]\n",
    "vif_data = pd.DataFrame()\n",
    "vif_data['feature'] = X.columns\n",
    "vif_data[\"VIF\"] = [variance_inflation_factor(X.values, i)\n",
    "                          for i in range(len(X.columns))]\n",
    "print(vif_data)\n",
    "\n"
   ]
  },
  {
   "cell_type": "markdown",
   "metadata": {},
   "source": [
    "#### We already know which stats are dependent on each other for PerGame, so we remove the redundancies and irrelevant columns. We also remove columns from advance that have linear dependencies and are harder to interpret/irrelevant"
   ]
  },
  {
   "cell_type": "code",
   "execution_count": 7,
   "metadata": {},
   "outputs": [],
   "source": [
    "#remove FG%, FT%, 3p%, 2p%, TRB, points?\n",
    "pergame = pergame.drop(columns = ['FG%', 'FT%', 'TRB', 'PF', '3P%', '2P%', 'PTS'])\n",
    "#remove eFG%, ws, ws/40, OWS, DWS, BPM from advanced\n",
    "advanced = advanced.drop(columns = ['eFG%', 'WS/40', 'WS', 'OWS', 'DWS', 'BPM'])\n"
   ]
  },
  {
   "cell_type": "code",
   "execution_count": 8,
   "metadata": {},
   "outputs": [
    {
     "data": {
      "text/html": [
       "<div>\n",
       "<style scoped>\n",
       "    .dataframe tbody tr th:only-of-type {\n",
       "        vertical-align: middle;\n",
       "    }\n",
       "\n",
       "    .dataframe tbody tr th {\n",
       "        vertical-align: top;\n",
       "    }\n",
       "\n",
       "    .dataframe thead th {\n",
       "        text-align: right;\n",
       "    }\n",
       "</style>\n",
       "<table border=\"1\" class=\"dataframe\">\n",
       "  <thead>\n",
       "    <tr style=\"text-align: right;\">\n",
       "      <th></th>\n",
       "      <th>Player</th>\n",
       "      <th>G</th>\n",
       "      <th>GS</th>\n",
       "      <th>MP</th>\n",
       "      <th>FG</th>\n",
       "      <th>FGA</th>\n",
       "      <th>two_pointers</th>\n",
       "      <th>two_point_attempts</th>\n",
       "      <th>three_pointers</th>\n",
       "      <th>three_point_attempts</th>\n",
       "      <th>FT</th>\n",
       "      <th>FTA</th>\n",
       "      <th>ORB</th>\n",
       "      <th>DRB</th>\n",
       "      <th>AST</th>\n",
       "      <th>STL</th>\n",
       "      <th>BLK</th>\n",
       "      <th>TOV</th>\n",
       "    </tr>\n",
       "  </thead>\n",
       "  <tbody>\n",
       "    <tr>\n",
       "      <td>0</td>\n",
       "      <td>Toni Rocak</td>\n",
       "      <td>17</td>\n",
       "      <td>1</td>\n",
       "      <td>19.6</td>\n",
       "      <td>4.8</td>\n",
       "      <td>9.3</td>\n",
       "      <td>4.4</td>\n",
       "      <td>7.6</td>\n",
       "      <td>0.4</td>\n",
       "      <td>1.7</td>\n",
       "      <td>2.8</td>\n",
       "      <td>4.4</td>\n",
       "      <td>1.8</td>\n",
       "      <td>3.5</td>\n",
       "      <td>1.2</td>\n",
       "      <td>1.2</td>\n",
       "      <td>0.5</td>\n",
       "      <td>2.1</td>\n",
       "    </tr>\n",
       "    <tr>\n",
       "      <td>1</td>\n",
       "      <td>Gabe Hadley</td>\n",
       "      <td>17</td>\n",
       "      <td>17</td>\n",
       "      <td>29.7</td>\n",
       "      <td>4.2</td>\n",
       "      <td>8.8</td>\n",
       "      <td>1.8</td>\n",
       "      <td>2.9</td>\n",
       "      <td>2.5</td>\n",
       "      <td>5.9</td>\n",
       "      <td>1.1</td>\n",
       "      <td>1.4</td>\n",
       "      <td>0.2</td>\n",
       "      <td>3.5</td>\n",
       "      <td>2.2</td>\n",
       "      <td>1.1</td>\n",
       "      <td>0.1</td>\n",
       "      <td>2.1</td>\n",
       "    </tr>\n",
       "    <tr>\n",
       "      <td>2</td>\n",
       "      <td>Hugh Baxter</td>\n",
       "      <td>17</td>\n",
       "      <td>16</td>\n",
       "      <td>21.3</td>\n",
       "      <td>3.9</td>\n",
       "      <td>7.7</td>\n",
       "      <td>2.1</td>\n",
       "      <td>2.9</td>\n",
       "      <td>1.8</td>\n",
       "      <td>4.8</td>\n",
       "      <td>0.4</td>\n",
       "      <td>0.6</td>\n",
       "      <td>0.6</td>\n",
       "      <td>2.4</td>\n",
       "      <td>1.5</td>\n",
       "      <td>0.6</td>\n",
       "      <td>0.2</td>\n",
       "      <td>1.4</td>\n",
       "    </tr>\n",
       "    <tr>\n",
       "      <td>3</td>\n",
       "      <td>Bryce Pope</td>\n",
       "      <td>15</td>\n",
       "      <td>15</td>\n",
       "      <td>26.4</td>\n",
       "      <td>3.9</td>\n",
       "      <td>8.4</td>\n",
       "      <td>2.3</td>\n",
       "      <td>4.2</td>\n",
       "      <td>1.7</td>\n",
       "      <td>4.2</td>\n",
       "      <td>0.1</td>\n",
       "      <td>0.4</td>\n",
       "      <td>0.2</td>\n",
       "      <td>2.1</td>\n",
       "      <td>0.8</td>\n",
       "      <td>0.2</td>\n",
       "      <td>0.0</td>\n",
       "      <td>1.1</td>\n",
       "    </tr>\n",
       "    <tr>\n",
       "      <td>4</td>\n",
       "      <td>Jake Killingsworth</td>\n",
       "      <td>17</td>\n",
       "      <td>17</td>\n",
       "      <td>27.8</td>\n",
       "      <td>2.8</td>\n",
       "      <td>6.5</td>\n",
       "      <td>0.8</td>\n",
       "      <td>1.6</td>\n",
       "      <td>2.0</td>\n",
       "      <td>4.9</td>\n",
       "      <td>0.8</td>\n",
       "      <td>1.1</td>\n",
       "      <td>0.9</td>\n",
       "      <td>2.8</td>\n",
       "      <td>1.8</td>\n",
       "      <td>0.6</td>\n",
       "      <td>0.3</td>\n",
       "      <td>0.5</td>\n",
       "    </tr>\n",
       "    <tr>\n",
       "      <td>5</td>\n",
       "      <td>Mikey Howell</td>\n",
       "      <td>16</td>\n",
       "      <td>16</td>\n",
       "      <td>29.9</td>\n",
       "      <td>2.4</td>\n",
       "      <td>6.0</td>\n",
       "      <td>1.7</td>\n",
       "      <td>3.7</td>\n",
       "      <td>0.8</td>\n",
       "      <td>2.3</td>\n",
       "      <td>1.3</td>\n",
       "      <td>2.0</td>\n",
       "      <td>0.6</td>\n",
       "      <td>2.4</td>\n",
       "      <td>6.0</td>\n",
       "      <td>1.9</td>\n",
       "      <td>0.1</td>\n",
       "      <td>2.8</td>\n",
       "    </tr>\n",
       "    <tr>\n",
       "      <td>6</td>\n",
       "      <td>Jace Roquemore</td>\n",
       "      <td>17</td>\n",
       "      <td>2</td>\n",
       "      <td>22.1</td>\n",
       "      <td>1.7</td>\n",
       "      <td>4.1</td>\n",
       "      <td>1.5</td>\n",
       "      <td>3.0</td>\n",
       "      <td>0.2</td>\n",
       "      <td>1.1</td>\n",
       "      <td>0.5</td>\n",
       "      <td>1.1</td>\n",
       "      <td>0.1</td>\n",
       "      <td>2.7</td>\n",
       "      <td>2.8</td>\n",
       "      <td>0.5</td>\n",
       "      <td>0.2</td>\n",
       "      <td>1.8</td>\n",
       "    </tr>\n",
       "    <tr>\n",
       "      <td>7</td>\n",
       "      <td>Martin Tombe</td>\n",
       "      <td>8</td>\n",
       "      <td>1</td>\n",
       "      <td>7.8</td>\n",
       "      <td>1.4</td>\n",
       "      <td>2.9</td>\n",
       "      <td>0.1</td>\n",
       "      <td>0.5</td>\n",
       "      <td>1.3</td>\n",
       "      <td>2.4</td>\n",
       "      <td>0.0</td>\n",
       "      <td>0.0</td>\n",
       "      <td>0.1</td>\n",
       "      <td>0.5</td>\n",
       "      <td>0.1</td>\n",
       "      <td>0.3</td>\n",
       "      <td>0.0</td>\n",
       "      <td>0.4</td>\n",
       "    </tr>\n",
       "    <tr>\n",
       "      <td>8</td>\n",
       "      <td>Matt Gray</td>\n",
       "      <td>11</td>\n",
       "      <td>0</td>\n",
       "      <td>8.1</td>\n",
       "      <td>1.0</td>\n",
       "      <td>3.1</td>\n",
       "      <td>0.4</td>\n",
       "      <td>0.9</td>\n",
       "      <td>0.6</td>\n",
       "      <td>2.2</td>\n",
       "      <td>0.5</td>\n",
       "      <td>0.9</td>\n",
       "      <td>0.4</td>\n",
       "      <td>1.2</td>\n",
       "      <td>0.5</td>\n",
       "      <td>0.2</td>\n",
       "      <td>0.7</td>\n",
       "      <td>0.5</td>\n",
       "    </tr>\n",
       "    <tr>\n",
       "      <td>9</td>\n",
       "      <td>Kaden Rasheed</td>\n",
       "      <td>14</td>\n",
       "      <td>0</td>\n",
       "      <td>11.9</td>\n",
       "      <td>0.9</td>\n",
       "      <td>2.1</td>\n",
       "      <td>0.2</td>\n",
       "      <td>0.7</td>\n",
       "      <td>0.6</td>\n",
       "      <td>1.4</td>\n",
       "      <td>0.4</td>\n",
       "      <td>0.5</td>\n",
       "      <td>0.0</td>\n",
       "      <td>1.4</td>\n",
       "      <td>0.5</td>\n",
       "      <td>0.3</td>\n",
       "      <td>0.1</td>\n",
       "      <td>0.5</td>\n",
       "    </tr>\n",
       "    <tr>\n",
       "      <td>10</td>\n",
       "      <td>Jake Kosakowski</td>\n",
       "      <td>8</td>\n",
       "      <td>0</td>\n",
       "      <td>8.4</td>\n",
       "      <td>0.9</td>\n",
       "      <td>2.6</td>\n",
       "      <td>0.3</td>\n",
       "      <td>0.5</td>\n",
       "      <td>0.6</td>\n",
       "      <td>2.1</td>\n",
       "      <td>0.3</td>\n",
       "      <td>0.3</td>\n",
       "      <td>0.3</td>\n",
       "      <td>1.3</td>\n",
       "      <td>0.3</td>\n",
       "      <td>0.0</td>\n",
       "      <td>0.0</td>\n",
       "      <td>0.4</td>\n",
       "    </tr>\n",
       "    <tr>\n",
       "      <td>11</td>\n",
       "      <td>Justin Pratt</td>\n",
       "      <td>6</td>\n",
       "      <td>0</td>\n",
       "      <td>5.7</td>\n",
       "      <td>0.7</td>\n",
       "      <td>1.7</td>\n",
       "      <td>0.3</td>\n",
       "      <td>0.8</td>\n",
       "      <td>0.3</td>\n",
       "      <td>0.8</td>\n",
       "      <td>0.0</td>\n",
       "      <td>0.0</td>\n",
       "      <td>0.2</td>\n",
       "      <td>1.0</td>\n",
       "      <td>0.3</td>\n",
       "      <td>0.2</td>\n",
       "      <td>0.0</td>\n",
       "      <td>0.2</td>\n",
       "    </tr>\n",
       "    <tr>\n",
       "      <td>12</td>\n",
       "      <td>Trace Ramsey</td>\n",
       "      <td>6</td>\n",
       "      <td>0</td>\n",
       "      <td>7.0</td>\n",
       "      <td>0.8</td>\n",
       "      <td>1.7</td>\n",
       "      <td>0.8</td>\n",
       "      <td>1.2</td>\n",
       "      <td>0.0</td>\n",
       "      <td>0.5</td>\n",
       "      <td>0.0</td>\n",
       "      <td>0.0</td>\n",
       "      <td>0.0</td>\n",
       "      <td>0.5</td>\n",
       "      <td>0.2</td>\n",
       "      <td>0.3</td>\n",
       "      <td>0.2</td>\n",
       "      <td>0.5</td>\n",
       "    </tr>\n",
       "    <tr>\n",
       "      <td>13</td>\n",
       "      <td>Lunden Taylor</td>\n",
       "      <td>7</td>\n",
       "      <td>0</td>\n",
       "      <td>5.7</td>\n",
       "      <td>0.3</td>\n",
       "      <td>0.7</td>\n",
       "      <td>0.3</td>\n",
       "      <td>0.6</td>\n",
       "      <td>0.0</td>\n",
       "      <td>0.1</td>\n",
       "      <td>0.3</td>\n",
       "      <td>0.7</td>\n",
       "      <td>0.1</td>\n",
       "      <td>0.4</td>\n",
       "      <td>1.0</td>\n",
       "      <td>0.4</td>\n",
       "      <td>0.1</td>\n",
       "      <td>0.6</td>\n",
       "    </tr>\n",
       "  </tbody>\n",
       "</table>\n",
       "</div>"
      ],
      "text/plain": [
       "                Player   G  GS    MP   FG  FGA  two_pointers  \\\n",
       "0           Toni Rocak  17   1  19.6  4.8  9.3           4.4   \n",
       "1          Gabe Hadley  17  17  29.7  4.2  8.8           1.8   \n",
       "2          Hugh Baxter  17  16  21.3  3.9  7.7           2.1   \n",
       "3           Bryce Pope  15  15  26.4  3.9  8.4           2.3   \n",
       "4   Jake Killingsworth  17  17  27.8  2.8  6.5           0.8   \n",
       "5         Mikey Howell  16  16  29.9  2.4  6.0           1.7   \n",
       "6       Jace Roquemore  17   2  22.1  1.7  4.1           1.5   \n",
       "7         Martin Tombe   8   1   7.8  1.4  2.9           0.1   \n",
       "8            Matt Gray  11   0   8.1  1.0  3.1           0.4   \n",
       "9        Kaden Rasheed  14   0  11.9  0.9  2.1           0.2   \n",
       "10     Jake Kosakowski   8   0   8.4  0.9  2.6           0.3   \n",
       "11        Justin Pratt   6   0   5.7  0.7  1.7           0.3   \n",
       "12        Trace Ramsey   6   0   7.0  0.8  1.7           0.8   \n",
       "13       Lunden Taylor   7   0   5.7  0.3  0.7           0.3   \n",
       "\n",
       "    two_point_attempts  three_pointers  three_point_attempts   FT  FTA  ORB  \\\n",
       "0                  7.6             0.4                   1.7  2.8  4.4  1.8   \n",
       "1                  2.9             2.5                   5.9  1.1  1.4  0.2   \n",
       "2                  2.9             1.8                   4.8  0.4  0.6  0.6   \n",
       "3                  4.2             1.7                   4.2  0.1  0.4  0.2   \n",
       "4                  1.6             2.0                   4.9  0.8  1.1  0.9   \n",
       "5                  3.7             0.8                   2.3  1.3  2.0  0.6   \n",
       "6                  3.0             0.2                   1.1  0.5  1.1  0.1   \n",
       "7                  0.5             1.3                   2.4  0.0  0.0  0.1   \n",
       "8                  0.9             0.6                   2.2  0.5  0.9  0.4   \n",
       "9                  0.7             0.6                   1.4  0.4  0.5  0.0   \n",
       "10                 0.5             0.6                   2.1  0.3  0.3  0.3   \n",
       "11                 0.8             0.3                   0.8  0.0  0.0  0.2   \n",
       "12                 1.2             0.0                   0.5  0.0  0.0  0.0   \n",
       "13                 0.6             0.0                   0.1  0.3  0.7  0.1   \n",
       "\n",
       "    DRB  AST  STL  BLK  TOV  \n",
       "0   3.5  1.2  1.2  0.5  2.1  \n",
       "1   3.5  2.2  1.1  0.1  2.1  \n",
       "2   2.4  1.5  0.6  0.2  1.4  \n",
       "3   2.1  0.8  0.2  0.0  1.1  \n",
       "4   2.8  1.8  0.6  0.3  0.5  \n",
       "5   2.4  6.0  1.9  0.1  2.8  \n",
       "6   2.7  2.8  0.5  0.2  1.8  \n",
       "7   0.5  0.1  0.3  0.0  0.4  \n",
       "8   1.2  0.5  0.2  0.7  0.5  \n",
       "9   1.4  0.5  0.3  0.1  0.5  \n",
       "10  1.3  0.3  0.0  0.0  0.4  \n",
       "11  1.0  0.3  0.2  0.0  0.2  \n",
       "12  0.5  0.2  0.3  0.2  0.5  \n",
       "13  0.4  1.0  0.4  0.1  0.6  "
      ]
     },
     "execution_count": 8,
     "metadata": {},
     "output_type": "execute_result"
    }
   ],
   "source": [
    "pergame.rename(columns = {'2P' : 'two_pointers','2PA' : 'two_point_attempts', '3P' : 'three_pointers', '3PA' : 'three_point_attempts'}, inplace = True)\n",
    "pergame\n"
   ]
  },
  {
   "cell_type": "code",
   "execution_count": 9,
   "metadata": {},
   "outputs": [
    {
     "data": {
      "text/html": [
       "<div>\n",
       "<style scoped>\n",
       "    .dataframe tbody tr th:only-of-type {\n",
       "        vertical-align: middle;\n",
       "    }\n",
       "\n",
       "    .dataframe tbody tr th {\n",
       "        vertical-align: top;\n",
       "    }\n",
       "\n",
       "    .dataframe thead th {\n",
       "        text-align: right;\n",
       "    }\n",
       "</style>\n",
       "<table border=\"1\" class=\"dataframe\">\n",
       "  <thead>\n",
       "    <tr style=\"text-align: right;\">\n",
       "      <th></th>\n",
       "      <th>Player</th>\n",
       "      <th>G</th>\n",
       "      <th>GS</th>\n",
       "      <th>MP</th>\n",
       "      <th>PER</th>\n",
       "      <th>TS%</th>\n",
       "      <th>three_point_attempt_rate</th>\n",
       "      <th>FTr</th>\n",
       "      <th>PProd</th>\n",
       "      <th>ORB%</th>\n",
       "      <th>DRB%</th>\n",
       "      <th>TRB%</th>\n",
       "      <th>AST%</th>\n",
       "      <th>STL%</th>\n",
       "      <th>BLK%</th>\n",
       "      <th>TOV%</th>\n",
       "      <th>USG%</th>\n",
       "      <th>OBPM</th>\n",
       "      <th>DBPM</th>\n",
       "    </tr>\n",
       "  </thead>\n",
       "  <tbody>\n",
       "    <tr>\n",
       "      <td>0</td>\n",
       "      <td>Jake Killingsworth</td>\n",
       "      <td>17</td>\n",
       "      <td>17</td>\n",
       "      <td>473</td>\n",
       "      <td>15.2</td>\n",
       "      <td>0.601</td>\n",
       "      <td>0.755</td>\n",
       "      <td>0.173</td>\n",
       "      <td>140</td>\n",
       "      <td>3.8</td>\n",
       "      <td>12.2</td>\n",
       "      <td>8.0</td>\n",
       "      <td>11.5</td>\n",
       "      <td>1.2</td>\n",
       "      <td>1.1</td>\n",
       "      <td>7.0</td>\n",
       "      <td>14.3</td>\n",
       "      <td>1.5</td>\n",
       "      <td>-1.6</td>\n",
       "    </tr>\n",
       "    <tr>\n",
       "      <td>1</td>\n",
       "      <td>Toni Rocak</td>\n",
       "      <td>17</td>\n",
       "      <td>1</td>\n",
       "      <td>333</td>\n",
       "      <td>26.5</td>\n",
       "      <td>0.564</td>\n",
       "      <td>0.184</td>\n",
       "      <td>0.468</td>\n",
       "      <td>206</td>\n",
       "      <td>11.2</td>\n",
       "      <td>21.2</td>\n",
       "      <td>16.2</td>\n",
       "      <td>14.8</td>\n",
       "      <td>3.4</td>\n",
       "      <td>2.7</td>\n",
       "      <td>15.3</td>\n",
       "      <td>36.2</td>\n",
       "      <td>1.2</td>\n",
       "      <td>-1.8</td>\n",
       "    </tr>\n",
       "    <tr>\n",
       "      <td>2</td>\n",
       "      <td>Gabe Hadley</td>\n",
       "      <td>17</td>\n",
       "      <td>17</td>\n",
       "      <td>505</td>\n",
       "      <td>15.7</td>\n",
       "      <td>0.632</td>\n",
       "      <td>0.667</td>\n",
       "      <td>0.160</td>\n",
       "      <td>181</td>\n",
       "      <td>0.7</td>\n",
       "      <td>14.0</td>\n",
       "      <td>7.4</td>\n",
       "      <td>14.4</td>\n",
       "      <td>2.0</td>\n",
       "      <td>0.2</td>\n",
       "      <td>18.2</td>\n",
       "      <td>20.7</td>\n",
       "      <td>-0.2</td>\n",
       "      <td>-1.9</td>\n",
       "    </tr>\n",
       "    <tr>\n",
       "      <td>3</td>\n",
       "      <td>Hugh Baxter</td>\n",
       "      <td>17</td>\n",
       "      <td>16</td>\n",
       "      <td>362</td>\n",
       "      <td>17.9</td>\n",
       "      <td>0.626</td>\n",
       "      <td>0.618</td>\n",
       "      <td>0.076</td>\n",
       "      <td>149</td>\n",
       "      <td>3.3</td>\n",
       "      <td>13.2</td>\n",
       "      <td>8.3</td>\n",
       "      <td>15.3</td>\n",
       "      <td>1.7</td>\n",
       "      <td>1.1</td>\n",
       "      <td>14.5</td>\n",
       "      <td>23.2</td>\n",
       "      <td>2.1</td>\n",
       "      <td>-1.3</td>\n",
       "    </tr>\n",
       "    <tr>\n",
       "      <td>4</td>\n",
       "      <td>Mikey Howell</td>\n",
       "      <td>16</td>\n",
       "      <td>16</td>\n",
       "      <td>479</td>\n",
       "      <td>13.6</td>\n",
       "      <td>0.499</td>\n",
       "      <td>0.385</td>\n",
       "      <td>0.333</td>\n",
       "      <td>164</td>\n",
       "      <td>2.5</td>\n",
       "      <td>9.5</td>\n",
       "      <td>6.0</td>\n",
       "      <td>35.1</td>\n",
       "      <td>3.7</td>\n",
       "      <td>0.4</td>\n",
       "      <td>28.8</td>\n",
       "      <td>17.2</td>\n",
       "      <td>-1.8</td>\n",
       "      <td>-0.7</td>\n",
       "    </tr>\n",
       "    <tr>\n",
       "      <td>5</td>\n",
       "      <td>Bryce Pope</td>\n",
       "      <td>15</td>\n",
       "      <td>15</td>\n",
       "      <td>396</td>\n",
       "      <td>11.2</td>\n",
       "      <td>0.563</td>\n",
       "      <td>0.500</td>\n",
       "      <td>0.048</td>\n",
       "      <td>118</td>\n",
       "      <td>0.9</td>\n",
       "      <td>9.7</td>\n",
       "      <td>5.3</td>\n",
       "      <td>6.0</td>\n",
       "      <td>0.4</td>\n",
       "      <td>0.0</td>\n",
       "      <td>11.0</td>\n",
       "      <td>19.3</td>\n",
       "      <td>0.0</td>\n",
       "      <td>-3.0</td>\n",
       "    </tr>\n",
       "    <tr>\n",
       "      <td>6</td>\n",
       "      <td>Kaden Rasheed</td>\n",
       "      <td>14</td>\n",
       "      <td>0</td>\n",
       "      <td>167</td>\n",
       "      <td>9.5</td>\n",
       "      <td>0.603</td>\n",
       "      <td>0.655</td>\n",
       "      <td>0.241</td>\n",
       "      <td>35</td>\n",
       "      <td>0.0</td>\n",
       "      <td>13.6</td>\n",
       "      <td>6.8</td>\n",
       "      <td>7.2</td>\n",
       "      <td>1.4</td>\n",
       "      <td>1.2</td>\n",
       "      <td>17.8</td>\n",
       "      <td>12.4</td>\n",
       "      <td>-1.2</td>\n",
       "      <td>-1.3</td>\n",
       "    </tr>\n",
       "    <tr>\n",
       "      <td>7</td>\n",
       "      <td>Jace Roquemore</td>\n",
       "      <td>17</td>\n",
       "      <td>2</td>\n",
       "      <td>376</td>\n",
       "      <td>7.2</td>\n",
       "      <td>0.446</td>\n",
       "      <td>0.271</td>\n",
       "      <td>0.257</td>\n",
       "      <td>90</td>\n",
       "      <td>0.6</td>\n",
       "      <td>14.7</td>\n",
       "      <td>7.7</td>\n",
       "      <td>21.7</td>\n",
       "      <td>1.4</td>\n",
       "      <td>1.1</td>\n",
       "      <td>28.3</td>\n",
       "      <td>15.4</td>\n",
       "      <td>-4.7</td>\n",
       "      <td>-1.7</td>\n",
       "    </tr>\n",
       "    <tr>\n",
       "      <td>8</td>\n",
       "      <td>Martin Tombe</td>\n",
       "      <td>8</td>\n",
       "      <td>1</td>\n",
       "      <td>62</td>\n",
       "      <td>18.7</td>\n",
       "      <td>0.696</td>\n",
       "      <td>0.826</td>\n",
       "      <td>0.000</td>\n",
       "      <td>22</td>\n",
       "      <td>1.9</td>\n",
       "      <td>7.7</td>\n",
       "      <td>4.8</td>\n",
       "      <td>3.4</td>\n",
       "      <td>1.8</td>\n",
       "      <td>0.0</td>\n",
       "      <td>11.5</td>\n",
       "      <td>22.2</td>\n",
       "      <td>3.0</td>\n",
       "      <td>0.5</td>\n",
       "    </tr>\n",
       "    <tr>\n",
       "      <td>9</td>\n",
       "      <td>Matt Gray</td>\n",
       "      <td>11</td>\n",
       "      <td>0</td>\n",
       "      <td>89</td>\n",
       "      <td>14.8</td>\n",
       "      <td>0.452</td>\n",
       "      <td>0.706</td>\n",
       "      <td>0.294</td>\n",
       "      <td>36</td>\n",
       "      <td>5.4</td>\n",
       "      <td>17.5</td>\n",
       "      <td>11.4</td>\n",
       "      <td>12.7</td>\n",
       "      <td>1.3</td>\n",
       "      <td>9.0</td>\n",
       "      <td>13.4</td>\n",
       "      <td>26.6</td>\n",
       "      <td>2.8</td>\n",
       "      <td>0.9</td>\n",
       "    </tr>\n",
       "    <tr>\n",
       "      <td>10</td>\n",
       "      <td>Jake Kosakowski</td>\n",
       "      <td>8</td>\n",
       "      <td>0</td>\n",
       "      <td>67</td>\n",
       "      <td>7.8</td>\n",
       "      <td>0.478</td>\n",
       "      <td>0.810</td>\n",
       "      <td>0.095</td>\n",
       "      <td>20</td>\n",
       "      <td>3.6</td>\n",
       "      <td>17.9</td>\n",
       "      <td>10.7</td>\n",
       "      <td>5.4</td>\n",
       "      <td>0.0</td>\n",
       "      <td>0.0</td>\n",
       "      <td>12.0</td>\n",
       "      <td>19.7</td>\n",
       "      <td>9.7</td>\n",
       "      <td>0.5</td>\n",
       "    </tr>\n",
       "    <tr>\n",
       "      <td>11</td>\n",
       "      <td>Justin Pratt</td>\n",
       "      <td>6</td>\n",
       "      <td>0</td>\n",
       "      <td>34</td>\n",
       "      <td>13.1</td>\n",
       "      <td>0.500</td>\n",
       "      <td>0.500</td>\n",
       "      <td>0.000</td>\n",
       "      <td>10</td>\n",
       "      <td>3.5</td>\n",
       "      <td>21.1</td>\n",
       "      <td>12.3</td>\n",
       "      <td>11.0</td>\n",
       "      <td>1.7</td>\n",
       "      <td>0.0</td>\n",
       "      <td>9.1</td>\n",
       "      <td>17.1</td>\n",
       "      <td>-6.6</td>\n",
       "      <td>1.6</td>\n",
       "    </tr>\n",
       "    <tr>\n",
       "      <td>12</td>\n",
       "      <td>Trace Ramsey</td>\n",
       "      <td>6</td>\n",
       "      <td>0</td>\n",
       "      <td>42</td>\n",
       "      <td>3.1</td>\n",
       "      <td>0.500</td>\n",
       "      <td>0.300</td>\n",
       "      <td>0.000</td>\n",
       "      <td>8</td>\n",
       "      <td>0.0</td>\n",
       "      <td>8.6</td>\n",
       "      <td>4.3</td>\n",
       "      <td>4.5</td>\n",
       "      <td>2.7</td>\n",
       "      <td>2.4</td>\n",
       "      <td>23.1</td>\n",
       "      <td>16.4</td>\n",
       "      <td>-20.3</td>\n",
       "      <td>0.4</td>\n",
       "    </tr>\n",
       "    <tr>\n",
       "      <td>13</td>\n",
       "      <td>Lunden Taylor</td>\n",
       "      <td>7</td>\n",
       "      <td>0</td>\n",
       "      <td>40</td>\n",
       "      <td>10.6</td>\n",
       "      <td>0.407</td>\n",
       "      <td>0.200</td>\n",
       "      <td>1.000</td>\n",
       "      <td>10</td>\n",
       "      <td>3.0</td>\n",
       "      <td>9.0</td>\n",
       "      <td>6.0</td>\n",
       "      <td>29.0</td>\n",
       "      <td>4.3</td>\n",
       "      <td>2.5</td>\n",
       "      <td>35.2</td>\n",
       "      <td>15.0</td>\n",
       "      <td>0.8</td>\n",
       "      <td>-1.1</td>\n",
       "    </tr>\n",
       "  </tbody>\n",
       "</table>\n",
       "</div>"
      ],
      "text/plain": [
       "                Player   G  GS   MP   PER    TS%  three_point_attempt_rate  \\\n",
       "0   Jake Killingsworth  17  17  473  15.2  0.601                     0.755   \n",
       "1           Toni Rocak  17   1  333  26.5  0.564                     0.184   \n",
       "2          Gabe Hadley  17  17  505  15.7  0.632                     0.667   \n",
       "3          Hugh Baxter  17  16  362  17.9  0.626                     0.618   \n",
       "4         Mikey Howell  16  16  479  13.6  0.499                     0.385   \n",
       "5           Bryce Pope  15  15  396  11.2  0.563                     0.500   \n",
       "6        Kaden Rasheed  14   0  167   9.5  0.603                     0.655   \n",
       "7       Jace Roquemore  17   2  376   7.2  0.446                     0.271   \n",
       "8         Martin Tombe   8   1   62  18.7  0.696                     0.826   \n",
       "9            Matt Gray  11   0   89  14.8  0.452                     0.706   \n",
       "10     Jake Kosakowski   8   0   67   7.8  0.478                     0.810   \n",
       "11        Justin Pratt   6   0   34  13.1  0.500                     0.500   \n",
       "12        Trace Ramsey   6   0   42   3.1  0.500                     0.300   \n",
       "13       Lunden Taylor   7   0   40  10.6  0.407                     0.200   \n",
       "\n",
       "      FTr  PProd  ORB%  DRB%  TRB%  AST%  STL%  BLK%  TOV%  USG%  OBPM  DBPM  \n",
       "0   0.173    140   3.8  12.2   8.0  11.5   1.2   1.1   7.0  14.3   1.5  -1.6  \n",
       "1   0.468    206  11.2  21.2  16.2  14.8   3.4   2.7  15.3  36.2   1.2  -1.8  \n",
       "2   0.160    181   0.7  14.0   7.4  14.4   2.0   0.2  18.2  20.7  -0.2  -1.9  \n",
       "3   0.076    149   3.3  13.2   8.3  15.3   1.7   1.1  14.5  23.2   2.1  -1.3  \n",
       "4   0.333    164   2.5   9.5   6.0  35.1   3.7   0.4  28.8  17.2  -1.8  -0.7  \n",
       "5   0.048    118   0.9   9.7   5.3   6.0   0.4   0.0  11.0  19.3   0.0  -3.0  \n",
       "6   0.241     35   0.0  13.6   6.8   7.2   1.4   1.2  17.8  12.4  -1.2  -1.3  \n",
       "7   0.257     90   0.6  14.7   7.7  21.7   1.4   1.1  28.3  15.4  -4.7  -1.7  \n",
       "8   0.000     22   1.9   7.7   4.8   3.4   1.8   0.0  11.5  22.2   3.0   0.5  \n",
       "9   0.294     36   5.4  17.5  11.4  12.7   1.3   9.0  13.4  26.6   2.8   0.9  \n",
       "10  0.095     20   3.6  17.9  10.7   5.4   0.0   0.0  12.0  19.7   9.7   0.5  \n",
       "11  0.000     10   3.5  21.1  12.3  11.0   1.7   0.0   9.1  17.1  -6.6   1.6  \n",
       "12  0.000      8   0.0   8.6   4.3   4.5   2.7   2.4  23.1  16.4 -20.3   0.4  \n",
       "13  1.000     10   3.0   9.0   6.0  29.0   4.3   2.5  35.2  15.0   0.8  -1.1  "
      ]
     },
     "execution_count": 9,
     "metadata": {},
     "output_type": "execute_result"
    }
   ],
   "source": [
    "advanced.rename(columns = {'3PAr' : 'three_point_attempt_rate'}, inplace = True)\n",
    "\n",
    "\n",
    "advanced"
   ]
  },
  {
   "cell_type": "code",
   "execution_count": 10,
   "metadata": {},
   "outputs": [
    {
     "data": {
      "image/png": "[encoded data removed]",
      "text/plain": [
       "<Figure size 432x288 with 1 Axes>"
      ]
     },
     "metadata": {
      "needs_background": "light"
     },
     "output_type": "display_data"
    },
    {
     "data": {
      "image/png": "[encoded data removed]",
      "text/plain": [
       "<Figure size 432x288 with 1 Axes>"
      ]
     },
     "metadata": {
      "needs_background": "light"
     },
     "output_type": "display_data"
    },
    {
     "data": {
      "image/png": "[encoded data removed]",
      "text/plain": [
       "<Figure size 432x288 with 1 Axes>"
      ]
     },
     "metadata": {
      "needs_background": "light"
     },
     "output_type": "display_data"
    },
    {
     "data": {
      "image/png": "[encoded data removed]",
      "text/plain": [
       "<Figure size 432x288 with 1 Axes>"
      ]
     },
     "metadata": {
      "needs_background": "light"
     },
     "output_type": "display_data"
    },
    {
     "data": {
      "image/png": "[encoded data removed]",
      "text/plain": [
       "<Figure size 432x288 with 1 Axes>"
      ]
     },
     "metadata": {
      "needs_background": "light"
     },
     "output_type": "display_data"
    },
    {
     "data": {
      "image/png": "[encoded data removed]",
      "text/plain": [
       "<Figure size 432x288 with 1 Axes>"
      ]
     },
     "metadata": {
      "needs_background": "light"
     },
     "output_type": "display_data"
    },
    {
     "data": {
      "image/png": "[encoded data removed]",
      "text/plain": [
       "<Figure size 432x288 with 1 Axes>"
      ]
     },
     "metadata": {
      "needs_background": "light"
     },
     "output_type": "display_data"
    },
    {
     "data": {
      "image/png": "[encoded data removed]",
      "text/plain": [
       "<Figure size 432x288 with 1 Axes>"
      ]
     },
     "metadata": {
      "needs_background": "light"
     },
     "output_type": "display_data"
    },
    {
     "data": {
      "image/png": "[encoded data removed]",
      "text/plain": [
       "<Figure size 432x288 with 1 Axes>"
      ]
     },
     "metadata": {
      "needs_background": "light"
     },
     "output_type": "display_data"
    },
    {
     "data": {
      "image/png": "[encoded data removed]",
      "text/plain": [
       "<Figure size 432x288 with 1 Axes>"
      ]
     },
     "metadata": {
      "needs_background": "light"
     },
     "output_type": "display_data"
    },
    {
     "data": {
      "image/png": "[encoded data removed]",
      "text/plain": [
       "<Figure size 432x288 with 1 Axes>"
      ]
     },
     "metadata": {
      "needs_background": "light"
     },
     "output_type": "display_data"
    },
    {
     "data": {
      "image/png": "[encoded data removed]",
      "text/plain": [
       "<Figure size 432x288 with 1 Axes>"
      ]
     },
     "metadata": {
      "needs_background": "light"
     },
     "output_type": "display_data"
    },
    {
     "data": {
      "image/png": "[encoded data removed]",
      "text/plain": [
       "<Figure size 432x288 with 1 Axes>"
      ]
     },
     "metadata": {
      "needs_background": "light"
     },
     "output_type": "display_data"
    },
    {
     "data": {
      "image/png": "[encoded data removed]",
      "text/plain": [
       "<Figure size 432x288 with 1 Axes>"
      ]
     },
     "metadata": {
      "needs_background": "light"
     },
     "output_type": "display_data"
    },
    {
     "data": {
      "image/png": "[encoded data removed]",
      "text/plain": [
       "<Figure size 432x288 with 1 Axes>"
      ]
     },
     "metadata": {
      "needs_background": "light"
     },
     "output_type": "display_data"
    },
    {
     "data": {
      "image/png": "[encoded data removed]",
      "text/plain": [
       "<Figure size 432x288 with 1 Axes>"
      ]
     },
     "metadata": {
      "needs_background": "light"
     },
     "output_type": "display_data"
    }
   ],
   "source": [
    "#plot features in relation to minutes played\n",
    "minutes = 'MP'\n",
    "pergame = pergame.set_index('Player')\n",
    "for col in pergame.columns:\n",
    "    if col != minutes:\n",
    "        \n",
    "        x = pergame[col]\n",
    "        fig = plt.figure()\n",
    "        ax = fig.add_axes([0,0,1,1])\n",
    "        ax.set_title(col + ' by ' + minutes)\n",
    "        ax.scatter(x, pergame[minutes])\n",
    "        plt.show()\n"
   ]
  },
  {
   "cell_type": "code",
   "execution_count": 11,
   "metadata": {},
   "outputs": [
    {
     "data": {
      "image/png": "[encoded data removed]",
      "text/plain": [
       "<Figure size 432x288 with 1 Axes>"
      ]
     },
     "metadata": {
      "needs_background": "light"
     },
     "output_type": "display_data"
    },
    {
     "data": {
      "image/png": "[encoded data removed]",
      "text/plain": [
       "<Figure size 432x288 with 1 Axes>"
      ]
     },
     "metadata": {
      "needs_background": "light"
     },
     "output_type": "display_data"
    },
    {
     "data": {
      "image/png": "[encoded data removed]",
      "text/plain": [
       "<Figure size 432x288 with 1 Axes>"
      ]
     },
     "metadata": {
      "needs_background": "light"
     },
     "output_type": "display_data"
    },
    {
     "data": {
      "image/png": "[encoded data removed]",
      "text/plain": [
       "<Figure size 432x288 with 1 Axes>"
      ]
     },
     "metadata": {
      "needs_background": "light"
     },
     "output_type": "display_data"
    },
    {
     "data": {
      "image/png": "[encoded data removed]",
      "text/plain": [
       "<Figure size 432x288 with 1 Axes>"
      ]
     },
     "metadata": {
      "needs_background": "light"
     },
     "output_type": "display_data"
    },
    {
     "data": {
      "image/png": "[encoded data removed]",
      "text/plain": [
       "<Figure size 432x288 with 1 Axes>"
      ]
     },
     "metadata": {
      "needs_background": "light"
     },
     "output_type": "display_data"
    },
    {
     "data": {
      "image/png": "[encoded data removed]",
      "text/plain": [
       "<Figure size 432x288 with 1 Axes>"
      ]
     },
     "metadata": {
      "needs_background": "light"
     },
     "output_type": "display_data"
    },
    {
     "data": {
      "image/png": "[encoded data removed]",
      "text/plain": [
       "<Figure size 432x288 with 1 Axes>"
      ]
     },
     "metadata": {
      "needs_background": "light"
     },
     "output_type": "display_data"
    },
    {
     "data": {
      "image/png": "[encoded data removed]",
      "text/plain": [
       "<Figure size 432x288 with 1 Axes>"
      ]
     },
     "metadata": {
      "needs_background": "light"
     },
     "output_type": "display_data"
    },
    {
     "data": {
      "image/png": "[encoded data removed]",
      "text/plain": [
       "<Figure size 432x288 with 1 Axes>"
      ]
     },
     "metadata": {
      "needs_background": "light"
     },
     "output_type": "display_data"
    },
    {
     "data": {
      "image/png": "[encoded data removed]",
      "text/plain": [
       "<Figure size 432x288 with 1 Axes>"
      ]
     },
     "metadata": {
      "needs_background": "light"
     },
     "output_type": "display_data"
    },
    {
     "data": {
      "image/png": "[encoded data removed]",
      "text/plain": [
       "<Figure size 432x288 with 1 Axes>"
      ]
     },
     "metadata": {
      "needs_background": "light"
     },
     "output_type": "display_data"
    },
    {
     "data": {
      "image/png": "[encoded data removed]",
      "text/plain": [
       "<Figure size 432x288 with 1 Axes>"
      ]
     },
     "metadata": {
      "needs_background": "light"
     },
     "output_type": "display_data"
    },
    {
     "data": {
      "image/png": "[encoded data removed]",
      "text/plain": [
       "<Figure size 432x288 with 1 Axes>"
      ]
     },
     "metadata": {
      "needs_background": "light"
     },
     "output_type": "display_data"
    },
    {
     "data": {
      "image/png": "[encoded data removed]",
      "text/plain": [
       "<Figure size 432x288 with 1 Axes>"
      ]
     },
     "metadata": {
      "needs_background": "light"
     },
     "output_type": "display_data"
    },
    {
     "data": {
      "image/png": "[encoded data removed]",
      "text/plain": [
       "<Figure size 432x288 with 1 Axes>"
      ]
     },
     "metadata": {
      "needs_background": "light"
     },
     "output_type": "display_data"
    },
    {
     "data": {
      "image/png": "[encoded data removed]",
      "text/plain": [
       "<Figure size 432x288 with 1 Axes>"
      ]
     },
     "metadata": {
      "needs_background": "light"
     },
     "output_type": "display_data"
    }
   ],
   "source": [
    "#plot features from advanced in relation to min played\n",
    "advanced = advanced.set_index('Player')\n",
    "for col in advanced.columns:\n",
    "    if col != minutes:\n",
    "        \n",
    "        x = advanced[col]\n",
    "        fig = plt.figure()\n",
    "        ax = fig.add_axes([0,0,1,1])\n",
    "        ax.set_title(col + ' by ' + minutes)\n",
    "        ax.scatter(x, advanced[minutes])\n",
    "        plt.show()\n"
   ]
  },
  {
   "cell_type": "code",
   "execution_count": 12,
   "metadata": {},
   "outputs": [
    {
     "ename": "NameError",
     "evalue": "name 'data' is not defined",
     "output_type": "error",
     "traceback": [
      "\u001b[0;31m---------------------------------------------------------------------------\u001b[0m",
      "\u001b[0;31mNameError\u001b[0m                                 Traceback (most recent call last)",
      "\u001b[0;32m<ipython-input-12-e227f556c241>\u001b[0m in \u001b[0;36m<module>\u001b[0;34m\u001b[0m\n\u001b[0;32m----> 1\u001b[0;31m \u001b[0mmodel\u001b[0m \u001b[0;34m=\u001b[0m \u001b[0mols\u001b[0m\u001b[0;34m(\u001b[0m\u001b[0mformula\u001b[0m \u001b[0;34m=\u001b[0m \u001b[0;34m'MP ~ 1 + AST'\u001b[0m\u001b[0;34m,\u001b[0m \u001b[0mdata\u001b[0m \u001b[0;34m=\u001b[0m \u001b[0mdata\u001b[0m\u001b[0;34m)\u001b[0m\u001b[0;34m.\u001b[0m\u001b[0mfit\u001b[0m\u001b[0;34m(\u001b[0m\u001b[0;34m)\u001b[0m\u001b[0;34m\u001b[0m\u001b[0;34m\u001b[0m\u001b[0m\n\u001b[0m\u001b[1;32m      2\u001b[0m \u001b[0mmodel\u001b[0m\u001b[0;34m.\u001b[0m\u001b[0msummary\u001b[0m\u001b[0;34m(\u001b[0m\u001b[0;34m)\u001b[0m\u001b[0;34m\u001b[0m\u001b[0;34m\u001b[0m\u001b[0m\n",
      "\u001b[0;31mNameError\u001b[0m: name 'data' is not defined"
     ]
    }
   ],
   "source": [
    "model = ols(formula = 'MP ~ 1 + AST', data = data).fit()\n",
    "model.summary()"
   ]
  },
  {
   "cell_type": "code",
   "execution_count": 13,
   "metadata": {},
   "outputs": [
    {
     "name": "stderr",
     "output_type": "stream",
     "text": [
      "/Users/JeffreyLau/opt/anaconda3/lib/python3.7/site-packages/scipy/stats/stats.py:1450: UserWarning: kurtosistest only valid for n>=20 ... continuing anyway, n=14\n",
      "  \"anyway, n=%i\" % int(n))\n",
      "/Users/JeffreyLau/opt/anaconda3/lib/python3.7/site-packages/statsmodels/regression/linear_model.py:1648: RuntimeWarning: divide by zero encountered in true_divide\n",
      "  return 1 - (np.divide(self.nobs - self.k_constant, self.df_resid)\n",
      "/Users/JeffreyLau/opt/anaconda3/lib/python3.7/site-packages/statsmodels/regression/linear_model.py:1649: RuntimeWarning: invalid value encountered in double_scalars\n",
      "  * (1 - self.rsquared))\n",
      "/Users/JeffreyLau/opt/anaconda3/lib/python3.7/site-packages/statsmodels/regression/linear_model.py:1665: RuntimeWarning: divide by zero encountered in double_scalars\n",
      "  return self.ssr/self.df_resid\n",
      "/Users/JeffreyLau/opt/anaconda3/lib/python3.7/site-packages/statsmodels/regression/linear_model.py:1578: RuntimeWarning: divide by zero encountered in double_scalars\n",
      "  return np.dot(wresid, wresid) / self.df_resid\n"
     ]
    },
    {
     "data": {
      "text/html": [
       "<table class=\"simpletable\">\n",
       "<caption>OLS Regression Results</caption>\n",
       "<tr>\n",
       "  <th>Dep. Variable:</th>           <td>MP</td>        <th>  R-squared:         </th> <td>   1.000</td>\n",
       "</tr>\n",
       "<tr>\n",
       "  <th>Model:</th>                   <td>OLS</td>       <th>  Adj. R-squared:    </th> <td>     nan</td>\n",
       "</tr>\n",
       "<tr>\n",
       "  <th>Method:</th>             <td>Least Squares</td>  <th>  F-statistic:       </th> <td>   0.000</td>\n",
       "</tr>\n",
       "<tr>\n",
       "  <th>Date:</th>             <td>Tue, 01 Jun 2021</td> <th>  Prob (F-statistic):</th>  <td>   nan</td> \n",
       "</tr>\n",
       "<tr>\n",
       "  <th>Time:</th>                 <td>20:31:45</td>     <th>  Log-Likelihood:    </th> <td>  413.70</td>\n",
       "</tr>\n",
       "<tr>\n",
       "  <th>No. Observations:</th>      <td>    14</td>      <th>  AIC:               </th> <td>  -799.4</td>\n",
       "</tr>\n",
       "<tr>\n",
       "  <th>Df Residuals:</th>          <td>     0</td>      <th>  BIC:               </th> <td>  -790.4</td>\n",
       "</tr>\n",
       "<tr>\n",
       "  <th>Df Model:</th>              <td>    13</td>      <th>                     </th>     <td> </td>   \n",
       "</tr>\n",
       "<tr>\n",
       "  <th>Covariance Type:</th>      <td>nonrobust</td>    <th>                     </th>     <td> </td>   \n",
       "</tr>\n",
       "</table>\n",
       "<table class=\"simpletable\">\n",
       "<tr>\n",
       "            <td></td>              <th>coef</th>     <th>std err</th>      <th>t</th>      <th>P>|t|</th>  <th>[0.025</th>    <th>0.975]</th>  \n",
       "</tr>\n",
       "<tr>\n",
       "  <th>Intercept</th>            <td>    0.0015</td> <td>      inf</td> <td>        0</td> <td>   nan</td> <td>      nan</td> <td>      nan</td>\n",
       "</tr>\n",
       "<tr>\n",
       "  <th>GS</th>                   <td>    0.0002</td> <td>      inf</td> <td>        0</td> <td>   nan</td> <td>      nan</td> <td>      nan</td>\n",
       "</tr>\n",
       "<tr>\n",
       "  <th>MP</th>                   <td>    0.9998</td> <td>      inf</td> <td>        0</td> <td>   nan</td> <td>      nan</td> <td>      nan</td>\n",
       "</tr>\n",
       "<tr>\n",
       "  <th>FG</th>                   <td>   -0.0032</td> <td>      inf</td> <td>       -0</td> <td>   nan</td> <td>      nan</td> <td>      nan</td>\n",
       "</tr>\n",
       "<tr>\n",
       "  <th>FGA</th>                  <td>   -0.0055</td> <td>      inf</td> <td>       -0</td> <td>   nan</td> <td>      nan</td> <td>      nan</td>\n",
       "</tr>\n",
       "<tr>\n",
       "  <th>two_pointers</th>         <td>    0.0029</td> <td>      inf</td> <td>        0</td> <td>   nan</td> <td>      nan</td> <td>      nan</td>\n",
       "</tr>\n",
       "<tr>\n",
       "  <th>two_point_attempts</th>   <td>    0.0060</td> <td>      inf</td> <td>        0</td> <td>   nan</td> <td>      nan</td> <td>      nan</td>\n",
       "</tr>\n",
       "<tr>\n",
       "  <th>three_pointers</th>       <td>    0.0062</td> <td>      inf</td> <td>        0</td> <td>   nan</td> <td>      nan</td> <td>      nan</td>\n",
       "</tr>\n",
       "<tr>\n",
       "  <th>three_point_attempts</th> <td>    0.0037</td> <td>      inf</td> <td>        0</td> <td>   nan</td> <td>      nan</td> <td>      nan</td>\n",
       "</tr>\n",
       "<tr>\n",
       "  <th>FT</th>                   <td>    0.0042</td> <td>      inf</td> <td>        0</td> <td>   nan</td> <td>      nan</td> <td>      nan</td>\n",
       "</tr>\n",
       "<tr>\n",
       "  <th>FTA</th>                  <td>   -0.0028</td> <td>      inf</td> <td>       -0</td> <td>   nan</td> <td>      nan</td> <td>      nan</td>\n",
       "</tr>\n",
       "<tr>\n",
       "  <th>ORB</th>                  <td>   -0.0002</td> <td>      inf</td> <td>       -0</td> <td>   nan</td> <td>      nan</td> <td>      nan</td>\n",
       "</tr>\n",
       "<tr>\n",
       "  <th>DRB</th>                  <td>    0.0008</td> <td>      inf</td> <td>        0</td> <td>   nan</td> <td>      nan</td> <td>      nan</td>\n",
       "</tr>\n",
       "<tr>\n",
       "  <th>AST</th>                  <td>    0.0006</td> <td>      inf</td> <td>        0</td> <td>   nan</td> <td>      nan</td> <td>      nan</td>\n",
       "</tr>\n",
       "<tr>\n",
       "  <th>STL</th>                  <td>   -0.0025</td> <td>      inf</td> <td>       -0</td> <td>   nan</td> <td>      nan</td> <td>      nan</td>\n",
       "</tr>\n",
       "<tr>\n",
       "  <th>BLK</th>                  <td>    0.0018</td> <td>      inf</td> <td>        0</td> <td>   nan</td> <td>      nan</td> <td>      nan</td>\n",
       "</tr>\n",
       "</table>\n",
       "<table class=\"simpletable\">\n",
       "<tr>\n",
       "  <th>Omnibus:</th>       <td> 2.964</td> <th>  Durbin-Watson:     </th> <td>   0.777</td>\n",
       "</tr>\n",
       "<tr>\n",
       "  <th>Prob(Omnibus):</th> <td> 0.227</td> <th>  Jarque-Bera (JB):  </th> <td>   0.968</td>\n",
       "</tr>\n",
       "<tr>\n",
       "  <th>Skew:</th>          <td>-0.553</td> <th>  Prob(JB):          </th> <td>   0.616</td>\n",
       "</tr>\n",
       "<tr>\n",
       "  <th>Kurtosis:</th>      <td> 3.659</td> <th>  Cond. No.          </th> <td>1.38e+03</td>\n",
       "</tr>\n",
       "</table><br/><br/>Warnings:<br/>[1] Standard Errors assume that the covariance matrix of the errors is correctly specified.<br/>[2] The input rank is higher than the number of observations.<br/>[3] The condition number is large, 1.38e+03. This might indicate that there are<br/>strong multicollinearity or other numerical problems."
      ],
      "text/plain": [
       "<class 'statsmodels.iolib.summary.Summary'>\n",
       "\"\"\"\n",
       "                            OLS Regression Results                            \n",
       "==============================================================================\n",
       "Dep. Variable:                     MP   R-squared:                       1.000\n",
       "Model:                            OLS   Adj. R-squared:                    nan\n",
       "Method:                 Least Squares   F-statistic:                     0.000\n",
       "Date:                Tue, 01 Jun 2021   Prob (F-statistic):                nan\n",
       "Time:                        20:31:45   Log-Likelihood:                 413.70\n",
       "No. Observations:                  14   AIC:                            -799.4\n",
       "Df Residuals:                       0   BIC:                            -790.4\n",
       "Df Model:                          13                                         \n",
       "Covariance Type:            nonrobust                                         \n",
       "========================================================================================\n",
       "                           coef    std err          t      P>|t|      [0.025      0.975]\n",
       "----------------------------------------------------------------------------------------\n",
       "Intercept                0.0015        inf          0        nan         nan         nan\n",
       "GS                       0.0002        inf          0        nan         nan         nan\n",
       "MP                       0.9998        inf          0        nan         nan         nan\n",
       "FG                      -0.0032        inf         -0        nan         nan         nan\n",
       "FGA                     -0.0055        inf         -0        nan         nan         nan\n",
       "two_pointers             0.0029        inf          0        nan         nan         nan\n",
       "two_point_attempts       0.0060        inf          0        nan         nan         nan\n",
       "three_pointers           0.0062        inf          0        nan         nan         nan\n",
       "three_point_attempts     0.0037        inf          0        nan         nan         nan\n",
       "FT                       0.0042        inf          0        nan         nan         nan\n",
       "FTA                     -0.0028        inf         -0        nan         nan         nan\n",
       "ORB                     -0.0002        inf         -0        nan         nan         nan\n",
       "DRB                      0.0008        inf          0        nan         nan         nan\n",
       "AST                      0.0006        inf          0        nan         nan         nan\n",
       "STL                     -0.0025        inf         -0        nan         nan         nan\n",
       "BLK                      0.0018        inf          0        nan         nan         nan\n",
       "==============================================================================\n",
       "Omnibus:                        2.964   Durbin-Watson:                   0.777\n",
       "Prob(Omnibus):                  0.227   Jarque-Bera (JB):                0.968\n",
       "Skew:                          -0.553   Prob(JB):                        0.616\n",
       "Kurtosis:                       3.659   Cond. No.                     1.38e+03\n",
       "==============================================================================\n",
       "\n",
       "Warnings:\n",
       "[1] Standard Errors assume that the covariance matrix of the errors is correctly specified.\n",
       "[2] The input rank is higher than the number of observations.\n",
       "[3] The condition number is large, 1.38e+03. This might indicate that there are\n",
       "strong multicollinearity or other numerical problems.\n",
       "\"\"\""
      ]
     },
     "execution_count": 13,
     "metadata": {},
     "output_type": "execute_result"
    }
   ],
   "source": [
    "data = pergame\n",
    "formula_103 = 'MP ~ 1 + '\n",
    "\n",
    "for i in range(1, len(data.columns) - 1):\n",
    "    if i == (len(data.columns) - 2):\n",
    "        formula_103 += data.columns[i]\n",
    "    else:\n",
    "        formula_103 += data.columns[i] + ' + '\n",
    "model = ols(formula = formula_103, data = data).fit()\n",
    "model.summary()"
   ]
  },
  {
   "cell_type": "code",
   "execution_count": 22,
   "metadata": {},
   "outputs": [
    {
     "data": {
      "text/plain": [
       "'MP ~ 1 + GS + MP + FG + FGA + two_pointers + two_point_attempts + three_pointers + three_point_attempts + FT + FTA + ORB + DRB + AST + STL + BLK'"
      ]
     },
     "execution_count": 22,
     "metadata": {},
     "output_type": "execute_result"
    }
   ],
   "source": [
    "formula_103"
   ]
  },
  {
   "cell_type": "code",
   "execution_count": null,
   "metadata": {},
   "outputs": [],
   "source": []
  },
  {
   "cell_type": "code",
   "execution_count": 14,
   "metadata": {},
   "outputs": [
    {
     "ename": "IndexError",
     "evalue": "index 17 is out of bounds for axis 0 with size 17",
     "output_type": "error",
     "traceback": [
      "\u001b[0;31m---------------------------------------------------------------------------\u001b[0m",
      "\u001b[0;31mIndexError\u001b[0m                                Traceback (most recent call last)",
      "\u001b[0;32m<ipython-input-14-65ffb471a0a0>\u001b[0m in \u001b[0;36m<module>\u001b[0;34m\u001b[0m\n\u001b[1;32m      5\u001b[0m \u001b[0;32mfor\u001b[0m \u001b[0mj\u001b[0m \u001b[0;32min\u001b[0m \u001b[0mrange\u001b[0m\u001b[0;34m(\u001b[0m\u001b[0mp\u001b[0m\u001b[0;34m)\u001b[0m\u001b[0;34m:\u001b[0m\u001b[0;34m\u001b[0m\u001b[0;34m\u001b[0m\u001b[0m\n\u001b[1;32m      6\u001b[0m     \u001b[0;31m# fit model\u001b[0m\u001b[0;34m\u001b[0m\u001b[0;34m\u001b[0m\u001b[0;34m\u001b[0m\u001b[0m\n\u001b[0;32m----> 7\u001b[0;31m     \u001b[0mX1\u001b[0m \u001b[0;34m=\u001b[0m \u001b[0mpergame\u001b[0m\u001b[0;34m.\u001b[0m\u001b[0mcolumns\u001b[0m\u001b[0;34m[\u001b[0m\u001b[0mj\u001b[0m\u001b[0;34m+\u001b[0m\u001b[0;36m1\u001b[0m\u001b[0;34m]\u001b[0m\u001b[0;34m\u001b[0m\u001b[0;34m\u001b[0m\u001b[0m\n\u001b[0m\u001b[1;32m      8\u001b[0m     \u001b[0mformula\u001b[0m \u001b[0;34m=\u001b[0m \u001b[0;34m'MP ~ 1 + %s'\u001b[0m \u001b[0;34m%\u001b[0m \u001b[0mpergame\u001b[0m\u001b[0;34m.\u001b[0m\u001b[0mcolumns\u001b[0m\u001b[0;34m[\u001b[0m\u001b[0mj\u001b[0m\u001b[0;34m+\u001b[0m\u001b[0;36m1\u001b[0m\u001b[0;34m]\u001b[0m\u001b[0;34m\u001b[0m\u001b[0;34m\u001b[0m\u001b[0m\n\u001b[1;32m      9\u001b[0m \u001b[0;34m\u001b[0m\u001b[0m\n",
      "\u001b[0;32m~/opt/anaconda3/lib/python3.7/site-packages/pandas/core/indexes/base.py\u001b[0m in \u001b[0;36m__getitem__\u001b[0;34m(self, key)\u001b[0m\n\u001b[1;32m   4278\u001b[0m         \u001b[0;32mif\u001b[0m \u001b[0mis_scalar\u001b[0m\u001b[0;34m(\u001b[0m\u001b[0mkey\u001b[0m\u001b[0;34m)\u001b[0m\u001b[0;34m:\u001b[0m\u001b[0;34m\u001b[0m\u001b[0;34m\u001b[0m\u001b[0m\n\u001b[1;32m   4279\u001b[0m             \u001b[0mkey\u001b[0m \u001b[0;34m=\u001b[0m \u001b[0mcom\u001b[0m\u001b[0;34m.\u001b[0m\u001b[0mcast_scalar_indexer\u001b[0m\u001b[0;34m(\u001b[0m\u001b[0mkey\u001b[0m\u001b[0;34m)\u001b[0m\u001b[0;34m\u001b[0m\u001b[0;34m\u001b[0m\u001b[0m\n\u001b[0;32m-> 4280\u001b[0;31m             \u001b[0;32mreturn\u001b[0m \u001b[0mgetitem\u001b[0m\u001b[0;34m(\u001b[0m\u001b[0mkey\u001b[0m\u001b[0;34m)\u001b[0m\u001b[0;34m\u001b[0m\u001b[0;34m\u001b[0m\u001b[0m\n\u001b[0m\u001b[1;32m   4281\u001b[0m \u001b[0;34m\u001b[0m\u001b[0m\n\u001b[1;32m   4282\u001b[0m         \u001b[0;32mif\u001b[0m \u001b[0misinstance\u001b[0m\u001b[0;34m(\u001b[0m\u001b[0mkey\u001b[0m\u001b[0;34m,\u001b[0m \u001b[0mslice\u001b[0m\u001b[0;34m)\u001b[0m\u001b[0;34m:\u001b[0m\u001b[0;34m\u001b[0m\u001b[0;34m\u001b[0m\u001b[0m\n",
      "\u001b[0;31mIndexError\u001b[0m: index 17 is out of bounds for axis 0 with size 17"
     ]
    }
   ],
   "source": [
    "def MSE(y, yhat):\n",
    "    return np.mean(np.power(y-yhat, 2))\n",
    "mse = []\n",
    "p = len(pergame.columns)\n",
    "for j in range(p):\n",
    "    # fit model \n",
    "    X1 = pergame.columns[j+1]\n",
    "    formula = 'MP ~ 1 + %s' % pergame.columns[j+1]\n",
    "     \n",
    "    model = ols(formula = formula, data = pergame).fit()\n",
    "\n",
    "    yhat = model.predict()\n",
    "    \n",
    "    mse.append(MSE(pergame['MP'], yhat))"
   ]
  },
  {
   "cell_type": "code",
   "execution_count": null,
   "metadata": {},
   "outputs": [],
   "source": [
    "pergame"
   ]
  },
  {
   "cell_type": "code",
   "execution_count": null,
   "metadata": {},
   "outputs": [],
   "source": []
  }
 ],
 "metadata": {
  "kernelspec": {
   "display_name": "Python 3",
   "language": "python",
   "name": "python3"
  },
  "language_info": {
   "codemirror_mode": {
    "name": "ipython",
    "version": 3
   },
   "file_extension": ".py",
   "mimetype": "text/x-python",
   "name": "python",
   "nbconvert_exporter": "python",
   "pygments_lexer": "ipython3",
   "version": "3.7.4"
  }
 },
 "nbformat": 4,
 "nbformat_minor": 4
}
